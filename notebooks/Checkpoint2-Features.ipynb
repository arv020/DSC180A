{
 "cells": [
  {
   "cell_type": "code",
   "execution_count": 1,
   "metadata": {},
   "outputs": [],
   "source": [
    "import pandas as pd\n",
    "import numpy as np\n",
    "import pylab as pl"
   ]
  },
  {
   "cell_type": "markdown",
   "metadata": {},
   "source": [
    "# Features"
   ]
  },
  {
   "cell_type": "markdown",
   "metadata": {},
   "source": [
    "In this EDA, we want to look into the different data captured and analyze what are some possible ways to identify whether that data was collected while a user was "
   ]
  },
  {
   "cell_type": "code",
   "execution_count": 2,
   "metadata": {},
   "outputs": [],
   "source": [
    "#internet browsing data collection with VPN\n",
    "int1 = pd.read_csv('Week4-datafiles/intvpn.csv')\n",
    "int2 = pd.read_csv('Week4-datafiles/int2vpn.csv')\n",
    "int3 = pd.read_csv('Week4-datafiles/int3vpn.csv')"
   ]
  },
  {
   "cell_type": "code",
   "execution_count": 3,
   "metadata": {},
   "outputs": [],
   "source": [
    "#video streaming data collection with VPN\n",
    "vid1 = pd.read_csv('Week4-datafiles/testcsv1.csv')\n",
    "vid2 = pd.read_csv('Week4-datafiles/testcsv2.csv')\n",
    "vid3 = pd.read_csv('Week4-datafiles/testcsv3.csv')"
   ]
  },
  {
   "cell_type": "markdown",
   "metadata": {},
   "source": [
    "Feature #1: Binary Mean "
   ]
  },
  {
   "cell_type": "markdown",
   "metadata": {},
   "source": [
    "1. take into account the mean of the packet sizes for the data set (binary column)\n",
    "\n",
    "0 = if mean of packet_sizes is < 500 (found from datasets of video streaming and internet browsing on vpn)\n",
    "\n",
    "1 = if mean of packet_sizes is > 500\n",
    "\n",
    "the idea here is that is a lot of packet sizes are larger than 500, it is video streaming. \n"
   ]
  },
  {
   "cell_type": "markdown",
   "metadata": {},
   "source": [
    "This function returns a new column (series) of binary (0/1) data \n",
    "**make sure parameter data is modified and split (one packet size per row)"
   ]
  },
  {
   "cell_type": "code",
   "execution_count": 2,
   "metadata": {},
   "outputs": [
    {
     "ename": "SyntaxError",
     "evalue": "invalid syntax (<ipython-input-2-20e6f01e1ec5>, line 1)",
     "output_type": "error",
     "traceback": [
      "\u001b[0;36m  File \u001b[0;32m\"<ipython-input-2-20e6f01e1ec5>\"\u001b[0;36m, line \u001b[0;32m1\u001b[0m\n\u001b[0;31m    def binarymean_packetsizes(modify_data(raw_data)):\u001b[0m\n\u001b[0m                                          ^\u001b[0m\n\u001b[0;31mSyntaxError\u001b[0m\u001b[0;31m:\u001b[0m invalid syntax\n"
     ]
    }
   ],
   "source": [
    "def binarymean_packetsizes(modify_data(raw_data)):\n",
    "    return (modified_data(raw_data)[\"packet_sizes\"] > 500).replace({True: 1, False: 0})"
   ]
  },
  {
   "cell_type": "markdown",
   "metadata": {},
   "source": [
    "Feature #2: Binary Min"
   ]
  },
  {
   "cell_type": "markdown",
   "metadata": {},
   "source": [
    "When looking at the min/max of the packet_sizes for the activity, I noticed that the min value of packet_sizes was always 32 for video streaming. VS for internet browsing, it never got under 36. For that reason I want to see if this feature adds some accuracy to the model. "
   ]
  },
  {
   "cell_type": "markdown",
   "metadata": {},
   "source": [
    "0 = greater than 32 (not streaming)\n",
    "\n",
    "1 = 32 or less (streaming)"
   ]
  },
  {
   "cell_type": "code",
   "execution_count": 1,
   "metadata": {},
   "outputs": [
    {
     "ename": "SyntaxError",
     "evalue": "invalid syntax (<ipython-input-1-8cd323314aaf>, line 1)",
     "output_type": "error",
     "traceback": [
      "\u001b[0;36m  File \u001b[0;32m\"<ipython-input-1-8cd323314aaf>\"\u001b[0;36m, line \u001b[0;32m1\u001b[0m\n\u001b[0;31m    def binarymin_packetsizes(modify_data(raw_data)):\u001b[0m\n\u001b[0m                                         ^\u001b[0m\n\u001b[0;31mSyntaxError\u001b[0m\u001b[0;31m:\u001b[0m invalid syntax\n"
     ]
    }
   ],
   "source": [
    "def binarymin_packetsizes(modify_data(raw_data)):\n",
    "    return (modify_data(raw_data)[\"packet_sizes\"].min() <= 32)"
   ]
  },
  {
   "cell_type": "code",
   "execution_count": null,
   "metadata": {},
   "outputs": [],
   "source": []
  }
 ],
 "metadata": {
  "kernelspec": {
   "display_name": "Python 3",
   "language": "python",
   "name": "python3"
  },
  "language_info": {
   "codemirror_mode": {
    "name": "ipython",
    "version": 3
   },
   "file_extension": ".py",
   "mimetype": "text/x-python",
   "name": "python",
   "nbconvert_exporter": "python",
   "pygments_lexer": "ipython3",
   "version": "3.8.3"
  }
 },
 "nbformat": 4,
 "nbformat_minor": 2
}
