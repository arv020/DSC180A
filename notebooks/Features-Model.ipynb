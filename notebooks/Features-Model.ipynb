{
 "cells": [
  {
   "cell_type": "code",
   "execution_count": 376,
   "metadata": {},
   "outputs": [],
   "source": [
    "import pandas as pd\n",
    "import numpy as np\n",
    "import pylab as pl\n",
    "from statistics import mode\n",
    "from sklearn.linear_model import LogisticRegression\n",
    "import os\n",
    "import seaborn as sns\n",
    "from sklearn.model_selection import train_test_split\n",
    "from sklearn.metrics import confusion_matrix\n",
    "from sklearn.ensemble import RandomForestClassifier\n",
    "from sklearn.neighbors import KNeighborsClassifier\n",
    "from sklearn.metrics import accuracy_score"
   ]
  },
  {
   "cell_type": "markdown",
   "metadata": {},
   "source": [
    "In this EDA, we want to look into the different data captured and analyze what are some possible ways to identify whether that data was collected while a user was "
   ]
  },
  {
   "cell_type": "code",
   "execution_count": 377,
   "metadata": {},
   "outputs": [],
   "source": [
    "#in order to use the class generated data, need to link to dsmlp server\n",
    "filepath = '/teams/DSC180A_FA20_A00/b05vpnxray/data/unzipped'\n",
    "data = os.listdir(filepath)"
   ]
  },
  {
   "cell_type": "code",
   "execution_count": null,
   "metadata": {},
   "outputs": [],
   "source": []
  },
  {
   "cell_type": "code",
   "execution_count": 378,
   "metadata": {},
   "outputs": [],
   "source": [
    "# for file in data:\n",
    "#     df = pd.read_csv('/teams/DSC180A_FA20_A00/b05vpnxray/data/unzipped' + file)\n",
    "    "
   ]
  },
  {
   "cell_type": "code",
   "execution_count": 379,
   "metadata": {},
   "outputs": [],
   "source": [
    "def filter_out(x):\n",
    "    #df = pd.read_csv('/teams/DSC180A_FA20_A00/b05vpnxray/data/unzipped/' + x)\n",
    "    ##print(len(df))\n",
    "    return ('._' in x) or (' ' in x)\n",
    "\n",
    "def filter_out_table():\n",
    "    filepath = '/teams/DSC180A_FA20_A00/b05vpnxray/data/unzipped'\n",
    "    data = os.listdir(filepath)\n",
    "    df = pd.DataFrame({\"input\": data})\n",
    "    df['remove'] = df['input'].apply(filter_out)\n",
    "    df = df[df['remove'] == False]\n",
    "    df = df.drop(columns = [\"remove\"])\n",
    "    df.reset_index(drop=True, inplace=True)\n",
    "    return df"
   ]
  },
  {
   "cell_type": "code",
   "execution_count": 380,
   "metadata": {},
   "outputs": [],
   "source": [
    "#df = df[df['remove'] == False]"
   ]
  },
  {
   "cell_type": "code",
   "execution_count": null,
   "metadata": {},
   "outputs": [],
   "source": []
  },
  {
   "cell_type": "code",
   "execution_count": null,
   "metadata": {},
   "outputs": [],
   "source": []
  },
  {
   "cell_type": "code",
   "execution_count": 381,
   "metadata": {},
   "outputs": [],
   "source": [
    "\n",
    "# df = df.drop(columns = [\"remove\"])\n",
    "# df.reset_index(drop=True, inplace=True)\n",
    "# df"
   ]
  },
  {
   "cell_type": "code",
   "execution_count": 382,
   "metadata": {},
   "outputs": [],
   "source": [
    "#we want to make a dataset in order to train the model \n",
    "#one column with input, and other with classifier\n"
   ]
  },
  {
   "cell_type": "code",
   "execution_count": 383,
   "metadata": {},
   "outputs": [],
   "source": [
    "def classify_training(x):\n",
    "    return ('novideo' in x) or ('browsing' in x) or ('internet' in x)\n",
    "    \n",
    "\n",
    "def table_output_col(df):\n",
    "    \n",
    "    df['output'] = df['input'].apply(classify_training).replace({True: 'Not Streaming', False: 'Streaming'})\n",
    "    return df"
   ]
  },
  {
   "cell_type": "code",
   "execution_count": null,
   "metadata": {},
   "outputs": [],
   "source": []
  },
  {
   "cell_type": "code",
   "execution_count": 384,
   "metadata": {},
   "outputs": [
    {
     "data": {
      "text/html": [
       "<div>\n",
       "<style scoped>\n",
       "    .dataframe tbody tr th:only-of-type {\n",
       "        vertical-align: middle;\n",
       "    }\n",
       "\n",
       "    .dataframe tbody tr th {\n",
       "        vertical-align: top;\n",
       "    }\n",
       "\n",
       "    .dataframe thead th {\n",
       "        text-align: right;\n",
       "    }\n",
       "</style>\n",
       "<table border=\"1\" class=\"dataframe\">\n",
       "  <thead>\n",
       "    <tr style=\"text-align: right;\">\n",
       "      <th></th>\n",
       "      <th>input</th>\n",
       "      <th>output</th>\n",
       "    </tr>\n",
       "  </thead>\n",
       "  <tbody>\n",
       "    <tr>\n",
       "      <th>0</th>\n",
       "      <td>zij034(1)-novideo-novpn-windows-20201101.csv</td>\n",
       "      <td>Not Streaming</td>\n",
       "    </tr>\n",
       "    <tr>\n",
       "      <th>1</th>\n",
       "      <td>maqader-netflix-1x-vpn-mac-clean-20201102c.csv</td>\n",
       "      <td>Streaming</td>\n",
       "    </tr>\n",
       "    <tr>\n",
       "      <th>2</th>\n",
       "      <td>zij034(1)_youtube_1x_xpn_windows_clean_2020110...</td>\n",
       "      <td>Streaming</td>\n",
       "    </tr>\n",
       "    <tr>\n",
       "      <th>3</th>\n",
       "      <td>shs214-novpn-browsing-4.csv.csv</td>\n",
       "      <td>Not Streaming</td>\n",
       "    </tr>\n",
       "    <tr>\n",
       "      <th>4</th>\n",
       "      <td>dagong-youtube-1x-vpn-mac-clean-20201031-1.csv</td>\n",
       "      <td>Streaming</td>\n",
       "    </tr>\n",
       "    <tr>\n",
       "      <th>...</th>\n",
       "      <td>...</td>\n",
       "      <td>...</td>\n",
       "    </tr>\n",
       "    <tr>\n",
       "      <th>184</th>\n",
       "      <td>arv020(6)-youtube[480]-1x-vpn-mac-clean-202011...</td>\n",
       "      <td>Streaming</td>\n",
       "    </tr>\n",
       "    <tr>\n",
       "      <th>185</th>\n",
       "      <td>jeq004_general_internet_novpn_mac_clean_202011...</td>\n",
       "      <td>Not Streaming</td>\n",
       "    </tr>\n",
       "    <tr>\n",
       "      <th>186</th>\n",
       "      <td>dyaseen-HBOMAX-1-vpn-windows-clean-20201102.csv</td>\n",
       "      <td>Streaming</td>\n",
       "    </tr>\n",
       "    <tr>\n",
       "      <th>187</th>\n",
       "      <td>jeq004_netflix_1080p_1x_novpn_mac_clean_202010...</td>\n",
       "      <td>Streaming</td>\n",
       "    </tr>\n",
       "    <tr>\n",
       "      <th>188</th>\n",
       "      <td>jeq004_general_internet_novpn_mac_clean_202011...</td>\n",
       "      <td>Not Streaming</td>\n",
       "    </tr>\n",
       "  </tbody>\n",
       "</table>\n",
       "<p>189 rows × 2 columns</p>\n",
       "</div>"
      ],
      "text/plain": [
       "                                                 input         output\n",
       "0         zij034(1)-novideo-novpn-windows-20201101.csv  Not Streaming\n",
       "1       maqader-netflix-1x-vpn-mac-clean-20201102c.csv      Streaming\n",
       "2    zij034(1)_youtube_1x_xpn_windows_clean_2020110...      Streaming\n",
       "3                      shs214-novpn-browsing-4.csv.csv  Not Streaming\n",
       "4       dagong-youtube-1x-vpn-mac-clean-20201031-1.csv      Streaming\n",
       "..                                                 ...            ...\n",
       "184  arv020(6)-youtube[480]-1x-vpn-mac-clean-202011...      Streaming\n",
       "185  jeq004_general_internet_novpn_mac_clean_202011...  Not Streaming\n",
       "186    dyaseen-HBOMAX-1-vpn-windows-clean-20201102.csv      Streaming\n",
       "187  jeq004_netflix_1080p_1x_novpn_mac_clean_202010...      Streaming\n",
       "188  jeq004_general_internet_novpn_mac_clean_202011...  Not Streaming\n",
       "\n",
       "[189 rows x 2 columns]"
      ]
     },
     "execution_count": 384,
     "metadata": {},
     "output_type": "execute_result"
    }
   ],
   "source": [
    "model_df = table_output_col(filter_out_table())\n",
    "model_df"
   ]
  },
  {
   "cell_type": "code",
   "execution_count": null,
   "metadata": {},
   "outputs": [],
   "source": []
  },
  {
   "cell_type": "code",
   "execution_count": 385,
   "metadata": {},
   "outputs": [],
   "source": [
    "#internet browsing data collection with VPN\n",
    "# int1 = pd.read_csv('Week4-datafiles/arv020(1)-novideo-vpn-mac-20201101.csv')\n",
    "# int2 = pd.read_csv('Week4-datafiles/arv020(2)-novideo-vpn-mac-20201101.csv')\n",
    "# int3 = pd.read_csv('Week4-datafiles/arv020(3)-novideo-vpn-mac-20201101.csv')"
   ]
  },
  {
   "cell_type": "code",
   "execution_count": 386,
   "metadata": {},
   "outputs": [],
   "source": [
    "#video streaming data collection with VPN\n",
    "# vid1 = pd.read_csv('Week4-datafiles/arv020(1)-youtube[480]-1x-vpn-mac-clean-20201101.csv')\n",
    "# vid2 = pd.read_csv('Week4-datafiles/arv020(2)-youtube[480]-1x-vpn-mac-clean-20201101.csv')\n",
    "# vid3 = pd.read_csv('Week4-datafiles/arv020(3)-youtube[480]-1x-vpn-mac-clean-20201101.csv')"
   ]
  },
  {
   "cell_type": "code",
   "execution_count": null,
   "metadata": {},
   "outputs": [],
   "source": []
  },
  {
   "cell_type": "markdown",
   "metadata": {},
   "source": [
    "In the extended version of network_stats that was provided to us by viasat, we can see there are a couple extra rows of data. These rows include [\"packet_times\", \"packet_sizes\", \"packet_dirs\"]"
   ]
  },
  {
   "cell_type": "code",
   "execution_count": 387,
   "metadata": {},
   "outputs": [],
   "source": [
    "#int1[[\"Time\", \"packet_sizes\", \"packet_dirs\"]]"
   ]
  },
  {
   "cell_type": "code",
   "execution_count": null,
   "metadata": {},
   "outputs": [],
   "source": []
  },
  {
   "cell_type": "markdown",
   "metadata": {},
   "source": [
    "Below we are data scraping the last two columns in order to analyze and look at the two types of network movements/flows (1-2,2-1)"
   ]
  },
  {
   "cell_type": "markdown",
   "metadata": {},
   "source": [
    "## Modify Data"
   ]
  },
  {
   "cell_type": "code",
   "execution_count": 388,
   "metadata": {},
   "outputs": [],
   "source": [
    "def modify_data(raw_data):\n",
    "    #we are separating the column \"packet sizes\"\n",
    "    new_pksize = []\n",
    "    for i in raw_data[\"packet_sizes\"]:\n",
    "        arr = i.split(\";\")\n",
    "        for j in arr[:-1]:\n",
    "            new_pksize.append(j)\n",
    "\n",
    "    #we are separating the column \"packet dir\"\n",
    "    new_pkdir = []\n",
    "    for i in raw_data[\"packet_dirs\"]:\n",
    "        arr = i.split(\";\")\n",
    "        for j in arr[:-1]:\n",
    "            new_pkdir.append(j)\n",
    "\n",
    "    modified_data = pd.DataFrame({'packet_sizes': pd.to_numeric(new_pksize), 'packet_dir': pd.to_numeric(new_pkdir)})\n",
    "    return modified_data"
   ]
  },
  {
   "cell_type": "code",
   "execution_count": 389,
   "metadata": {},
   "outputs": [],
   "source": [
    "# mod_int1= modify_data(int1)\n",
    "# mod_int2= modify_data(int2)\n",
    "# mod_int3= modify_data(int3)\n",
    "# mod_vid1= modify_data(vid1)\n",
    "# mod_vid2= modify_data(vid2)\n",
    "# mod_vid3= modify_data(vid3)"
   ]
  },
  {
   "cell_type": "code",
   "execution_count": null,
   "metadata": {},
   "outputs": [],
   "source": []
  },
  {
   "cell_type": "code",
   "execution_count": 390,
   "metadata": {},
   "outputs": [],
   "source": [
    "def pktdir_vs_pktsze_int(modified_data):\n",
    "    modified_data[modified_data[\"packet_dir\"] == 1][\"packet_sizes\"].plot(kind = \"hist\")\n",
    "    modified_data[modified_data[\"packet_dir\"] == 2][\"packet_sizes\"].plot(kind = \"hist\")\n",
    "    pl.title('Packet Directions vs Packet Size: internet browsing data with VPN')\n",
    "    pl.xlabel('Packet Size')\n",
    "    pl.ylabel('Frequency')\n",
    "    pl.legend([\"1->2\", \"2->1\"])\n",
    "#pktdir_vs_pktsze_int(modify_data(int1))"
   ]
  },
  {
   "cell_type": "code",
   "execution_count": 391,
   "metadata": {},
   "outputs": [],
   "source": [
    "#pktdir_vs_pktsze_int(modify_data(int2))"
   ]
  },
  {
   "cell_type": "code",
   "execution_count": 392,
   "metadata": {},
   "outputs": [],
   "source": [
    "#pktdir_vs_pktsze_int(modify_data(int3))"
   ]
  },
  {
   "cell_type": "code",
   "execution_count": 393,
   "metadata": {},
   "outputs": [],
   "source": [
    "def pktdir_vs_pktsze_vid(modified_data):\n",
    "    modified_data[modified_data[\"packet_dir\"] == 1][\"packet_sizes\"].plot(kind = \"hist\")\n",
    "    modified_data[modified_data[\"packet_dir\"] == 2][\"packet_sizes\"].plot(kind = \"hist\")\n",
    "    pl.title('Packet Directions vs Packet Size: video streaming data with VPN')\n",
    "    pl.xlabel('Packet Size')\n",
    "    pl.ylabel('Frequency')\n",
    "    pl.legend([\"1->2\", \"2->1\"])\n",
    "    \n",
    "#pktdir_vs_pktsze_vid(modify_data(vid1))"
   ]
  },
  {
   "cell_type": "code",
   "execution_count": 394,
   "metadata": {},
   "outputs": [],
   "source": [
    "#pktdir_vs_pktsze_vid(modify_data(vid2))\n"
   ]
  },
  {
   "cell_type": "code",
   "execution_count": 395,
   "metadata": {},
   "outputs": [],
   "source": [
    "#mod_int1[mod_int1[\"packet_sizes\"] >= 1400]"
   ]
  },
  {
   "cell_type": "code",
   "execution_count": 396,
   "metadata": {},
   "outputs": [],
   "source": [
    "#mod_int2[mod_int2[\"packet_sizes\"] >= 1400]"
   ]
  },
  {
   "cell_type": "code",
   "execution_count": 397,
   "metadata": {},
   "outputs": [],
   "source": [
    "#mod_int3[mod_int3[\"packet_sizes\"] >= 1400]"
   ]
  },
  {
   "cell_type": "code",
   "execution_count": 398,
   "metadata": {},
   "outputs": [],
   "source": [
    "#mod_vid2[mod_vid2[\"packet_sizes\"] >= 1400]"
   ]
  },
  {
   "cell_type": "code",
   "execution_count": 399,
   "metadata": {},
   "outputs": [],
   "source": [
    "#pktdir_vs_pktsze_vid(modify_data(vid3))"
   ]
  },
  {
   "cell_type": "code",
   "execution_count": null,
   "metadata": {},
   "outputs": [],
   "source": []
  },
  {
   "cell_type": "code",
   "execution_count": 400,
   "metadata": {},
   "outputs": [],
   "source": [
    "#Analysis of portion os packetsizes"
   ]
  },
  {
   "cell_type": "code",
   "execution_count": 401,
   "metadata": {},
   "outputs": [],
   "source": [
    "#this function plots the first x proportion of packet_Sizes that appear in the data\n",
    "def prop_pksize(tbl, percent):\n",
    "    tbl[\"index\"] = tbl.index\n",
    "    up_to = tbl.size*percent\n",
    "    tbl[:int(up_to)].plot.scatter(\"index\", \"packet_sizes\")\n",
    "    "
   ]
  },
  {
   "cell_type": "code",
   "execution_count": null,
   "metadata": {},
   "outputs": [],
   "source": []
  },
  {
   "cell_type": "code",
   "execution_count": 402,
   "metadata": {},
   "outputs": [],
   "source": [
    "# prop_pksize(mod_int1, .10)\n",
    "# prop_pksize(mod_int2, .10)\n",
    "# prop_pksize(mod_int3, .10)"
   ]
  },
  {
   "cell_type": "code",
   "execution_count": 403,
   "metadata": {},
   "outputs": [],
   "source": [
    "# prop_pksize(mod_vid1, .10)\n",
    "# prop_pksize(mod_vid1, .20)\n",
    "# prop_pksize(mod_vid1, .50)"
   ]
  },
  {
   "cell_type": "code",
   "execution_count": 404,
   "metadata": {},
   "outputs": [],
   "source": [
    "# prop_pksize(mod_vid2, .10)\n",
    "# prop_pksize(mod_vid3, .10)"
   ]
  },
  {
   "cell_type": "code",
   "execution_count": null,
   "metadata": {},
   "outputs": [],
   "source": []
  },
  {
   "cell_type": "markdown",
   "metadata": {},
   "source": [
    "maybe we can make a feature that looks at the first 10% of packets coming through \n",
    "and look at last 10% of sizes coming through \n",
    "\n",
    "we can also look at first 10,000 packets "
   ]
  },
  {
   "cell_type": "markdown",
   "metadata": {},
   "source": [
    "This function is looking at the patterns of the first x points in the datset "
   ]
  },
  {
   "cell_type": "code",
   "execution_count": 405,
   "metadata": {},
   "outputs": [],
   "source": [
    "def num_pksize(tbl, num_points):\n",
    "    tbl[\"index\"] = tbl.index\n",
    "    tbl[:num_points].plot.scatter(\"index\", \"packet_sizes\")"
   ]
  },
  {
   "cell_type": "code",
   "execution_count": 406,
   "metadata": {},
   "outputs": [],
   "source": [
    "# num_pksize(mod_int1, 10000)\n",
    "# num_pksize(mod_int2, 10000)\n",
    "# num_pksize(mod_int3, 10000)"
   ]
  },
  {
   "cell_type": "code",
   "execution_count": null,
   "metadata": {},
   "outputs": [],
   "source": []
  },
  {
   "cell_type": "code",
   "execution_count": 407,
   "metadata": {},
   "outputs": [],
   "source": [
    "# num_pksize(mod_vid1, 10000)\n",
    "# num_pksize(mod_vid2, 10000)\n",
    "# num_pksize(mod_vid3, 10000)"
   ]
  },
  {
   "cell_type": "markdown",
   "metadata": {},
   "source": [
    "From here we are able to see that streaming data has a lot more of packet sizes that are of larger size. From there we are able to look at the means of the packet sizes for each scenario and be able to use that as a value of comparison for the features that are going to be put into the machine learning model/classifier."
   ]
  },
  {
   "cell_type": "markdown",
   "metadata": {},
   "source": [
    "Here we are continuing to look at perform EDA by looking at mean, STD, max, min values of the datasets"
   ]
  },
  {
   "cell_type": "code",
   "execution_count": 408,
   "metadata": {},
   "outputs": [],
   "source": [
    "# print(\"The mean of packet_sizes for a non streaming is: \" + str(mod_int1.describe()[\"packet_sizes\"][1]))\n",
    "# print(\"The mean of packet_sizes for a non streaming is: \" + str(mod_int2.describe()[\"packet_sizes\"][1]))\n",
    "# print(\"The mean of packet_sizes for a non streaming is: \" + str(mod_int3.describe()[\"packet_sizes\"][1]))"
   ]
  },
  {
   "cell_type": "code",
   "execution_count": 409,
   "metadata": {},
   "outputs": [],
   "source": [
    "# print(\"The std of packet_sizes for a non streaming is: \" + str(mod_int1.describe()[\"packet_sizes\"][2]))\n",
    "# print(\"The std of packet_sizes for a non streaming is: \" + str(mod_int2.describe()[\"packet_sizes\"][2]))\n",
    "# print(\"The std of packet_sizes for a non streaming is: \" + str(mod_int3.describe()[\"packet_sizes\"][2]))"
   ]
  },
  {
   "cell_type": "code",
   "execution_count": 410,
   "metadata": {},
   "outputs": [],
   "source": [
    "# print(\"The mean of packet_sizes for streaming is: \" + str(mod_vid1.describe()[\"packet_sizes\"][1]))\n",
    "# print(\"The mean of packet_sizes for streaming is: \" + str(mod_vid2.describe()[\"packet_sizes\"][1]))\n",
    "# print(\"The mean of packet_sizes for streaming is: \" + str(mod_vid3.describe()[\"packet_sizes\"][1]))"
   ]
  },
  {
   "cell_type": "code",
   "execution_count": 411,
   "metadata": {},
   "outputs": [],
   "source": [
    "# print(\"The std of packet_sizes for streaming is: \" + str(mod_vid1.describe()[\"packet_sizes\"][2]))\n",
    "# print(\"The std of packet_sizes for streaming is: \" + str(mod_vid2.describe()[\"packet_sizes\"][2]))\n",
    "# print(\"The std of packet_sizes for streaming is: \" + str(mod_vid3.describe()[\"packet_sizes\"][2]))"
   ]
  },
  {
   "cell_type": "code",
   "execution_count": null,
   "metadata": {},
   "outputs": [],
   "source": []
  },
  {
   "cell_type": "code",
   "execution_count": null,
   "metadata": {},
   "outputs": [],
   "source": []
  },
  {
   "cell_type": "code",
   "execution_count": 412,
   "metadata": {},
   "outputs": [],
   "source": [
    "#mod_int1[[\"packet_sizes\", \"packet_dir\"]]#.value_counts(\"packet_dir\")"
   ]
  },
  {
   "cell_type": "code",
   "execution_count": 413,
   "metadata": {},
   "outputs": [],
   "source": [
    "# int2.plot(\"Time\", \"1->2Bytes\")\n",
    "# int2.plot(\"Time\", \"2->1Bytes\")"
   ]
  },
  {
   "cell_type": "code",
   "execution_count": 414,
   "metadata": {},
   "outputs": [],
   "source": [
    "#int3.plot(\"Time\", \"1->2Bytes\")"
   ]
  },
  {
   "cell_type": "code",
   "execution_count": 415,
   "metadata": {},
   "outputs": [],
   "source": [
    "#vid1.plot(\"Time\", \"1->2Bytes\")"
   ]
  },
  {
   "cell_type": "code",
   "execution_count": 416,
   "metadata": {},
   "outputs": [],
   "source": [
    "#vid2.plot(\"Time\", \"1->2Bytes\")"
   ]
  },
  {
   "cell_type": "code",
   "execution_count": 417,
   "metadata": {},
   "outputs": [],
   "source": [
    "#vid3.plot(\"Time\", \"1->2Bytes\")"
   ]
  },
  {
   "cell_type": "code",
   "execution_count": null,
   "metadata": {},
   "outputs": [],
   "source": []
  },
  {
   "cell_type": "code",
   "execution_count": 418,
   "metadata": {},
   "outputs": [],
   "source": [
    "#lets look at frequency proportion of 1-> packets in [200-400 range]"
   ]
  },
  {
   "cell_type": "code",
   "execution_count": 419,
   "metadata": {},
   "outputs": [],
   "source": [
    "#prop_range200_400_dir1(mod_int1)"
   ]
  },
  {
   "cell_type": "markdown",
   "metadata": {},
   "source": [
    "## Feature Engineering"
   ]
  },
  {
   "cell_type": "markdown",
   "metadata": {},
   "source": [
    "## Feature #1: proportion of packet sizes from 0-200 size \n",
    "this is comparing the proportion of upload vs download packets in the 0-200 size range"
   ]
  },
  {
   "cell_type": "code",
   "execution_count": 420,
   "metadata": {},
   "outputs": [],
   "source": [
    "def prop_pksize_dir12(tbl):\n",
    "    proportion = tbl[tbl[\"packet_sizes\"] < 200][\"packet_dir\"].value_counts()[2]/ tbl[tbl[\"packet_sizes\"] < 200][\"packet_dir\"].value_counts()[1]\n",
    "    \n",
    "    return proportion\n",
    "#     if proportion < .15:\n",
    "#         return \"Streaming\"\n",
    "#     else:\n",
    "#         return \"Not Streaming\""
   ]
  },
  {
   "cell_type": "code",
   "execution_count": 421,
   "metadata": {},
   "outputs": [],
   "source": [
    "#prop_pksize_dir12(data[0])"
   ]
  },
  {
   "cell_type": "markdown",
   "metadata": {},
   "source": [
    "## feature taken out"
   ]
  },
  {
   "cell_type": "markdown",
   "metadata": {},
   "source": [
    "1. take into account the mean of the packet sizes for the data set (binary column)\n",
    "\n",
    "0 = if mean of packet_sizes is < 500, not streaming(found from datasets of video streaming and internet browsing on vpn)\n",
    "\n",
    "1 = if mean of packet_sizes is > 500, streaming\n",
    "\n",
    "the idea here is that is a lot of packet sizes are larger than 500, it is video streaming. \n"
   ]
  },
  {
   "cell_type": "markdown",
   "metadata": {},
   "source": [
    "This function returns a new column (series) of binary (0/1) data \n",
    "**make sure parameter data is modified and split (one packet size per row)"
   ]
  },
  {
   "cell_type": "code",
   "execution_count": 422,
   "metadata": {},
   "outputs": [],
   "source": [
    "def binarymean_packetsizes(modified_data):\n",
    "    output = (modified_data[\"packet_sizes\"] > 400).replace({True: 1, False: 0}).value_counts().index[0]#.replace({1: \"Streaming\", 0: \"Not Streaming\"})\n",
    "    if output == 1:\n",
    "        return \"Streaming\"\n",
    "    else:\n",
    "        return \"Not Streaming\""
   ]
  },
  {
   "cell_type": "markdown",
   "metadata": {},
   "source": [
    "## Feature #2: Binary Min"
   ]
  },
  {
   "cell_type": "markdown",
   "metadata": {},
   "source": [
    "When looking at the min/max of the packet_sizes for the activity, I noticed that the min value of packet_sizes was always 32 for video streaming. VS for internet browsing, it never got under 36. For that reason I want to see if this feature adds some accuracy to the model. "
   ]
  },
  {
   "cell_type": "markdown",
   "metadata": {},
   "source": [
    "0 = greater than 32 (not streaming)\n",
    "\n",
    "1 = 32 or less (streaming)"
   ]
  },
  {
   "cell_type": "code",
   "execution_count": 423,
   "metadata": {},
   "outputs": [],
   "source": [
    "def binarymin_packetsizes(modified_data):\n",
    "    output = (modified_data[\"packet_sizes\"].min() <= 32)\n",
    "    if output == 1:\n",
    "        return \"Streaming\"\n",
    "    else:\n",
    "        return \"Not Streaming\"\n",
    "    #return modified_data[\"packet_sizes\"].min()"
   ]
  },
  {
   "cell_type": "code",
   "execution_count": null,
   "metadata": {},
   "outputs": [],
   "source": []
  },
  {
   "cell_type": "markdown",
   "metadata": {},
   "source": [
    "## Feature 3: max packet_size "
   ]
  },
  {
   "cell_type": "code",
   "execution_count": 424,
   "metadata": {},
   "outputs": [],
   "source": [
    "def binary_max_pksz(tbl):\n",
    "    num_packets = tbl[tbl[\"packet_sizes\"] >= 1400].size\n",
    "    \n",
    "   \n",
    "    if num_packets > 0:\n",
    "        return \"Streaming\"\n",
    "    else:\n",
    "        return \"Not Streaming\""
   ]
  },
  {
   "cell_type": "code",
   "execution_count": 425,
   "metadata": {},
   "outputs": [],
   "source": [
    "#binary_max_pksz(mod_int1)"
   ]
  },
  {
   "cell_type": "code",
   "execution_count": 426,
   "metadata": {},
   "outputs": [],
   "source": [
    "#binary_max_pksz(mod_vid1)"
   ]
  },
  {
   "cell_type": "markdown",
   "metadata": {},
   "source": [
    "## Feature 4: Looked at the proportion of upload packet sizes in range [200-400]"
   ]
  },
  {
   "cell_type": "code",
   "execution_count": null,
   "metadata": {},
   "outputs": [],
   "source": []
  },
  {
   "cell_type": "code",
   "execution_count": 427,
   "metadata": {},
   "outputs": [],
   "source": [
    "def prop_range200_400_dir1(tbl):\n",
    "    a = len(tbl[(tbl[\"packet_sizes\"] > 200) & (tbl[\"packet_sizes\"] < 600) & (tbl[\"packet_dir\"] == 1)])\n",
    "    b = len(tbl[tbl[\"packet_dir\"] == 1])\n",
    "    return a/b\n",
    "#     if (a/b) < .15:\n",
    "#         return \"Not Streaming\"\n",
    "#     else:\n",
    "#         return \"Streaming\""
   ]
  },
  {
   "cell_type": "code",
   "execution_count": null,
   "metadata": {},
   "outputs": [],
   "source": []
  },
  {
   "cell_type": "markdown",
   "metadata": {},
   "source": [
    "## Feature 5: proportion of pksize 0-200 compared to all"
   ]
  },
  {
   "cell_type": "code",
   "execution_count": 428,
   "metadata": {},
   "outputs": [],
   "source": [
    "def prop_200toentire(tbl):\n",
    "    proportion = tbl[tbl[\"packet_sizes\"] < 200][\"packet_dir\"].size/tbl[\"packet_sizes\"].size\n",
    "    return proportion"
   ]
  },
  {
   "cell_type": "markdown",
   "metadata": {},
   "source": [
    "# Feature 6: proportion of pksize >1200 compared to all "
   ]
  },
  {
   "cell_type": "code",
   "execution_count": 429,
   "metadata": {},
   "outputs": [],
   "source": [
    "def prop_1200toentire(tbl):\n",
    "    proportion = tbl[tbl[\"packet_sizes\"] > 1200][\"packet_dir\"].size/tbl[\"packet_sizes\"].size\n",
    "    return proportion"
   ]
  },
  {
   "cell_type": "markdown",
   "metadata": {},
   "source": [
    "## Classifier"
   ]
  },
  {
   "cell_type": "code",
   "execution_count": null,
   "metadata": {},
   "outputs": [],
   "source": []
  },
  {
   "cell_type": "code",
   "execution_count": 430,
   "metadata": {},
   "outputs": [],
   "source": [
    "def classifier(raw_data):\n",
    "    raw_data = pd.read_csv('/teams/DSC180A_FA20_A00/b05vpnxray/data/unzipped/' + raw_data)\n",
    "    \n",
    "    #should input features that take data as a parameter\n",
    "    #this will create a list of 1/0 's\n",
    "    feature1 = prop_pksize_dir12(modify_data(raw_data))\n",
    "    feature2 = binarymin_packetsizes(modify_data(raw_data))\n",
    "    feature3 = binary_max_pksz(modify_data(raw_data))\n",
    "    feature4 = prop_range200_400_dir1(modify_data(raw_data))\n",
    "    feature5 = prop_200toentire(modify_data(raw_data))\n",
    "    feature6 = prop_1200toentire(modify_data(raw_data))\n",
    "   \n",
    "    output =  [feature1, feature2, feature3, feature4, feature5, feature6]\n",
    "    return output#.replace({\"Not Streaming\":0, \"Streaming\" : 1})"
   ]
  },
  {
   "cell_type": "code",
   "execution_count": 431,
   "metadata": {},
   "outputs": [],
   "source": [
    "#classifier(model_df['input'][12])"
   ]
  },
  {
   "cell_type": "code",
   "execution_count": 432,
   "metadata": {},
   "outputs": [],
   "source": [
    "#this builds the model and prepares the dataset for logistic regression\n",
    "\n",
    "def build_df(df):\n",
    "    ft1 = []\n",
    "    ft2 = []\n",
    "    ft3 = []\n",
    "    ft4 = []\n",
    "    ft5 = []\n",
    "    ft6 = []\n",
    "\n",
    "    for i in range(len(df['input'])):\n",
    "        fts = classifier(df['input'][i])\n",
    "\n",
    "        ft1.append(fts[0])\n",
    "        ft2.append(fts[1])\n",
    "        ft3.append(fts[2])\n",
    "        ft4.append(fts[3])\n",
    "        ft5.append(fts[4])\n",
    "        ft6.append(fts[5])\n",
    "\n",
    "\n",
    "    df['feature1'] = ft1\n",
    "    df['feature2'] = ft2\n",
    "    df['feature3'] = ft3\n",
    "    df['feature4'] = ft4\n",
    "    df['feature5'] = ft5\n",
    "    df['feature6'] = ft6\n",
    "    \n",
    "    return df\n",
    "    \n"
   ]
  },
  {
   "cell_type": "code",
   "execution_count": 433,
   "metadata": {},
   "outputs": [
    {
     "data": {
      "text/html": [
       "<div>\n",
       "<style scoped>\n",
       "    .dataframe tbody tr th:only-of-type {\n",
       "        vertical-align: middle;\n",
       "    }\n",
       "\n",
       "    .dataframe tbody tr th {\n",
       "        vertical-align: top;\n",
       "    }\n",
       "\n",
       "    .dataframe thead th {\n",
       "        text-align: right;\n",
       "    }\n",
       "</style>\n",
       "<table border=\"1\" class=\"dataframe\">\n",
       "  <thead>\n",
       "    <tr style=\"text-align: right;\">\n",
       "      <th></th>\n",
       "      <th>input</th>\n",
       "      <th>output</th>\n",
       "    </tr>\n",
       "  </thead>\n",
       "  <tbody>\n",
       "    <tr>\n",
       "      <th>0</th>\n",
       "      <td>zij034(1)-novideo-novpn-windows-20201101.csv</td>\n",
       "      <td>Not Streaming</td>\n",
       "    </tr>\n",
       "    <tr>\n",
       "      <th>1</th>\n",
       "      <td>maqader-netflix-1x-vpn-mac-clean-20201102c.csv</td>\n",
       "      <td>Streaming</td>\n",
       "    </tr>\n",
       "    <tr>\n",
       "      <th>2</th>\n",
       "      <td>zij034(1)_youtube_1x_xpn_windows_clean_2020110...</td>\n",
       "      <td>Streaming</td>\n",
       "    </tr>\n",
       "    <tr>\n",
       "      <th>3</th>\n",
       "      <td>shs214-novpn-browsing-4.csv.csv</td>\n",
       "      <td>Not Streaming</td>\n",
       "    </tr>\n",
       "    <tr>\n",
       "      <th>4</th>\n",
       "      <td>dagong-youtube-1x-vpn-mac-clean-20201031-1.csv</td>\n",
       "      <td>Streaming</td>\n",
       "    </tr>\n",
       "    <tr>\n",
       "      <th>...</th>\n",
       "      <td>...</td>\n",
       "      <td>...</td>\n",
       "    </tr>\n",
       "    <tr>\n",
       "      <th>184</th>\n",
       "      <td>arv020(6)-youtube[480]-1x-vpn-mac-clean-202011...</td>\n",
       "      <td>Streaming</td>\n",
       "    </tr>\n",
       "    <tr>\n",
       "      <th>185</th>\n",
       "      <td>jeq004_general_internet_novpn_mac_clean_202011...</td>\n",
       "      <td>Not Streaming</td>\n",
       "    </tr>\n",
       "    <tr>\n",
       "      <th>186</th>\n",
       "      <td>dyaseen-HBOMAX-1-vpn-windows-clean-20201102.csv</td>\n",
       "      <td>Streaming</td>\n",
       "    </tr>\n",
       "    <tr>\n",
       "      <th>187</th>\n",
       "      <td>jeq004_netflix_1080p_1x_novpn_mac_clean_202010...</td>\n",
       "      <td>Streaming</td>\n",
       "    </tr>\n",
       "    <tr>\n",
       "      <th>188</th>\n",
       "      <td>jeq004_general_internet_novpn_mac_clean_202011...</td>\n",
       "      <td>Not Streaming</td>\n",
       "    </tr>\n",
       "  </tbody>\n",
       "</table>\n",
       "<p>189 rows × 2 columns</p>\n",
       "</div>"
      ],
      "text/plain": [
       "                                                 input         output\n",
       "0         zij034(1)-novideo-novpn-windows-20201101.csv  Not Streaming\n",
       "1       maqader-netflix-1x-vpn-mac-clean-20201102c.csv      Streaming\n",
       "2    zij034(1)_youtube_1x_xpn_windows_clean_2020110...      Streaming\n",
       "3                      shs214-novpn-browsing-4.csv.csv  Not Streaming\n",
       "4       dagong-youtube-1x-vpn-mac-clean-20201031-1.csv      Streaming\n",
       "..                                                 ...            ...\n",
       "184  arv020(6)-youtube[480]-1x-vpn-mac-clean-202011...      Streaming\n",
       "185  jeq004_general_internet_novpn_mac_clean_202011...  Not Streaming\n",
       "186    dyaseen-HBOMAX-1-vpn-windows-clean-20201102.csv      Streaming\n",
       "187  jeq004_netflix_1080p_1x_novpn_mac_clean_202010...      Streaming\n",
       "188  jeq004_general_internet_novpn_mac_clean_202011...  Not Streaming\n",
       "\n",
       "[189 rows x 2 columns]"
      ]
     },
     "execution_count": 433,
     "metadata": {},
     "output_type": "execute_result"
    }
   ],
   "source": [
    "model_df"
   ]
  },
  {
   "cell_type": "code",
   "execution_count": 434,
   "metadata": {},
   "outputs": [
    {
     "data": {
      "text/html": [
       "<div>\n",
       "<style scoped>\n",
       "    .dataframe tbody tr th:only-of-type {\n",
       "        vertical-align: middle;\n",
       "    }\n",
       "\n",
       "    .dataframe tbody tr th {\n",
       "        vertical-align: top;\n",
       "    }\n",
       "\n",
       "    .dataframe thead th {\n",
       "        text-align: right;\n",
       "    }\n",
       "</style>\n",
       "<table border=\"1\" class=\"dataframe\">\n",
       "  <thead>\n",
       "    <tr style=\"text-align: right;\">\n",
       "      <th></th>\n",
       "      <th>input</th>\n",
       "      <th>output</th>\n",
       "      <th>feature1</th>\n",
       "      <th>feature2</th>\n",
       "      <th>feature3</th>\n",
       "      <th>feature4</th>\n",
       "      <th>feature5</th>\n",
       "      <th>feature6</th>\n",
       "    </tr>\n",
       "  </thead>\n",
       "  <tbody>\n",
       "    <tr>\n",
       "      <th>0</th>\n",
       "      <td>zij034(1)-novideo-novpn-windows-20201101.csv</td>\n",
       "      <td>Not Streaming</td>\n",
       "      <td>0.271567</td>\n",
       "      <td>Not Streaming</td>\n",
       "      <td>Streaming</td>\n",
       "      <td>0.043136</td>\n",
       "      <td>0.458771</td>\n",
       "      <td>0.507159</td>\n",
       "    </tr>\n",
       "    <tr>\n",
       "      <th>1</th>\n",
       "      <td>maqader-netflix-1x-vpn-mac-clean-20201102c.csv</td>\n",
       "      <td>Streaming</td>\n",
       "      <td>0.047581</td>\n",
       "      <td>Streaming</td>\n",
       "      <td>Not Streaming</td>\n",
       "      <td>0.008515</td>\n",
       "      <td>0.176486</td>\n",
       "      <td>0.805142</td>\n",
       "    </tr>\n",
       "    <tr>\n",
       "      <th>2</th>\n",
       "      <td>zij034(1)_youtube_1x_xpn_windows_clean_2020110...</td>\n",
       "      <td>Streaming</td>\n",
       "      <td>0.034231</td>\n",
       "      <td>Not Streaming</td>\n",
       "      <td>Not Streaming</td>\n",
       "      <td>0.021977</td>\n",
       "      <td>0.415074</td>\n",
       "      <td>0.570288</td>\n",
       "    </tr>\n",
       "    <tr>\n",
       "      <th>3</th>\n",
       "      <td>shs214-novpn-browsing-4.csv.csv</td>\n",
       "      <td>Not Streaming</td>\n",
       "      <td>0.973299</td>\n",
       "      <td>Not Streaming</td>\n",
       "      <td>Streaming</td>\n",
       "      <td>0.088907</td>\n",
       "      <td>0.487308</td>\n",
       "      <td>0.338622</td>\n",
       "    </tr>\n",
       "    <tr>\n",
       "      <th>4</th>\n",
       "      <td>dagong-youtube-1x-vpn-mac-clean-20201031-1.csv</td>\n",
       "      <td>Streaming</td>\n",
       "      <td>0.099291</td>\n",
       "      <td>Streaming</td>\n",
       "      <td>Not Streaming</td>\n",
       "      <td>0.150706</td>\n",
       "      <td>0.362297</td>\n",
       "      <td>0.565142</td>\n",
       "    </tr>\n",
       "    <tr>\n",
       "      <th>...</th>\n",
       "      <td>...</td>\n",
       "      <td>...</td>\n",
       "      <td>...</td>\n",
       "      <td>...</td>\n",
       "      <td>...</td>\n",
       "      <td>...</td>\n",
       "      <td>...</td>\n",
       "      <td>...</td>\n",
       "    </tr>\n",
       "    <tr>\n",
       "      <th>184</th>\n",
       "      <td>arv020(6)-youtube[480]-1x-vpn-mac-clean-202011...</td>\n",
       "      <td>Streaming</td>\n",
       "      <td>0.103331</td>\n",
       "      <td>Streaming</td>\n",
       "      <td>Streaming</td>\n",
       "      <td>0.514547</td>\n",
       "      <td>0.291306</td>\n",
       "      <td>0.307952</td>\n",
       "    </tr>\n",
       "    <tr>\n",
       "      <th>185</th>\n",
       "      <td>jeq004_general_internet_novpn_mac_clean_202011...</td>\n",
       "      <td>Not Streaming</td>\n",
       "      <td>0.463788</td>\n",
       "      <td>Streaming</td>\n",
       "      <td>Streaming</td>\n",
       "      <td>0.115323</td>\n",
       "      <td>0.497486</td>\n",
       "      <td>0.396808</td>\n",
       "    </tr>\n",
       "    <tr>\n",
       "      <th>186</th>\n",
       "      <td>dyaseen-HBOMAX-1-vpn-windows-clean-20201102.csv</td>\n",
       "      <td>Streaming</td>\n",
       "      <td>0.015650</td>\n",
       "      <td>Not Streaming</td>\n",
       "      <td>Streaming</td>\n",
       "      <td>0.009136</td>\n",
       "      <td>0.345326</td>\n",
       "      <td>0.648319</td>\n",
       "    </tr>\n",
       "    <tr>\n",
       "      <th>187</th>\n",
       "      <td>jeq004_netflix_1080p_1x_novpn_mac_clean_202010...</td>\n",
       "      <td>Streaming</td>\n",
       "      <td>0.133723</td>\n",
       "      <td>Streaming</td>\n",
       "      <td>Streaming</td>\n",
       "      <td>0.070731</td>\n",
       "      <td>0.374298</td>\n",
       "      <td>0.575392</td>\n",
       "    </tr>\n",
       "    <tr>\n",
       "      <th>188</th>\n",
       "      <td>jeq004_general_internet_novpn_mac_clean_202011...</td>\n",
       "      <td>Not Streaming</td>\n",
       "      <td>0.609797</td>\n",
       "      <td>Streaming</td>\n",
       "      <td>Streaming</td>\n",
       "      <td>0.206135</td>\n",
       "      <td>0.585681</td>\n",
       "      <td>0.190515</td>\n",
       "    </tr>\n",
       "  </tbody>\n",
       "</table>\n",
       "<p>189 rows × 8 columns</p>\n",
       "</div>"
      ],
      "text/plain": [
       "                                                 input         output  \\\n",
       "0         zij034(1)-novideo-novpn-windows-20201101.csv  Not Streaming   \n",
       "1       maqader-netflix-1x-vpn-mac-clean-20201102c.csv      Streaming   \n",
       "2    zij034(1)_youtube_1x_xpn_windows_clean_2020110...      Streaming   \n",
       "3                      shs214-novpn-browsing-4.csv.csv  Not Streaming   \n",
       "4       dagong-youtube-1x-vpn-mac-clean-20201031-1.csv      Streaming   \n",
       "..                                                 ...            ...   \n",
       "184  arv020(6)-youtube[480]-1x-vpn-mac-clean-202011...      Streaming   \n",
       "185  jeq004_general_internet_novpn_mac_clean_202011...  Not Streaming   \n",
       "186    dyaseen-HBOMAX-1-vpn-windows-clean-20201102.csv      Streaming   \n",
       "187  jeq004_netflix_1080p_1x_novpn_mac_clean_202010...      Streaming   \n",
       "188  jeq004_general_internet_novpn_mac_clean_202011...  Not Streaming   \n",
       "\n",
       "     feature1       feature2       feature3  feature4  feature5  feature6  \n",
       "0    0.271567  Not Streaming      Streaming  0.043136  0.458771  0.507159  \n",
       "1    0.047581      Streaming  Not Streaming  0.008515  0.176486  0.805142  \n",
       "2    0.034231  Not Streaming  Not Streaming  0.021977  0.415074  0.570288  \n",
       "3    0.973299  Not Streaming      Streaming  0.088907  0.487308  0.338622  \n",
       "4    0.099291      Streaming  Not Streaming  0.150706  0.362297  0.565142  \n",
       "..        ...            ...            ...       ...       ...       ...  \n",
       "184  0.103331      Streaming      Streaming  0.514547  0.291306  0.307952  \n",
       "185  0.463788      Streaming      Streaming  0.115323  0.497486  0.396808  \n",
       "186  0.015650  Not Streaming      Streaming  0.009136  0.345326  0.648319  \n",
       "187  0.133723      Streaming      Streaming  0.070731  0.374298  0.575392  \n",
       "188  0.609797      Streaming      Streaming  0.206135  0.585681  0.190515  \n",
       "\n",
       "[189 rows x 8 columns]"
      ]
     },
     "execution_count": 434,
     "metadata": {},
     "output_type": "execute_result"
    }
   ],
   "source": [
    "model_df = build_df(model_df)\n",
    "model_df"
   ]
  },
  {
   "cell_type": "code",
   "execution_count": null,
   "metadata": {},
   "outputs": [],
   "source": []
  },
  {
   "cell_type": "markdown",
   "metadata": {},
   "source": [
    "# Model #1: Logistic Regression "
   ]
  },
  {
   "cell_type": "code",
   "execution_count": 435,
   "metadata": {},
   "outputs": [],
   "source": [
    "df = model_df.replace({\"Not Streaming\":0, \"Streaming\":1})"
   ]
  },
  {
   "cell_type": "code",
   "execution_count": 436,
   "metadata": {},
   "outputs": [
    {
     "data": {
      "text/html": [
       "<div>\n",
       "<style scoped>\n",
       "    .dataframe tbody tr th:only-of-type {\n",
       "        vertical-align: middle;\n",
       "    }\n",
       "\n",
       "    .dataframe tbody tr th {\n",
       "        vertical-align: top;\n",
       "    }\n",
       "\n",
       "    .dataframe thead th {\n",
       "        text-align: right;\n",
       "    }\n",
       "</style>\n",
       "<table border=\"1\" class=\"dataframe\">\n",
       "  <thead>\n",
       "    <tr style=\"text-align: right;\">\n",
       "      <th></th>\n",
       "      <th>input</th>\n",
       "      <th>output</th>\n",
       "      <th>feature1</th>\n",
       "      <th>feature2</th>\n",
       "      <th>feature3</th>\n",
       "      <th>feature4</th>\n",
       "      <th>feature5</th>\n",
       "      <th>feature6</th>\n",
       "    </tr>\n",
       "  </thead>\n",
       "  <tbody>\n",
       "    <tr>\n",
       "      <th>0</th>\n",
       "      <td>zij034(1)-novideo-novpn-windows-20201101.csv</td>\n",
       "      <td>0</td>\n",
       "      <td>0.271567</td>\n",
       "      <td>0</td>\n",
       "      <td>1</td>\n",
       "      <td>0.043136</td>\n",
       "      <td>0.458771</td>\n",
       "      <td>0.507159</td>\n",
       "    </tr>\n",
       "    <tr>\n",
       "      <th>1</th>\n",
       "      <td>maqader-netflix-1x-vpn-mac-clean-20201102c.csv</td>\n",
       "      <td>1</td>\n",
       "      <td>0.047581</td>\n",
       "      <td>1</td>\n",
       "      <td>0</td>\n",
       "      <td>0.008515</td>\n",
       "      <td>0.176486</td>\n",
       "      <td>0.805142</td>\n",
       "    </tr>\n",
       "    <tr>\n",
       "      <th>2</th>\n",
       "      <td>zij034(1)_youtube_1x_xpn_windows_clean_2020110...</td>\n",
       "      <td>1</td>\n",
       "      <td>0.034231</td>\n",
       "      <td>0</td>\n",
       "      <td>0</td>\n",
       "      <td>0.021977</td>\n",
       "      <td>0.415074</td>\n",
       "      <td>0.570288</td>\n",
       "    </tr>\n",
       "    <tr>\n",
       "      <th>3</th>\n",
       "      <td>shs214-novpn-browsing-4.csv.csv</td>\n",
       "      <td>0</td>\n",
       "      <td>0.973299</td>\n",
       "      <td>0</td>\n",
       "      <td>1</td>\n",
       "      <td>0.088907</td>\n",
       "      <td>0.487308</td>\n",
       "      <td>0.338622</td>\n",
       "    </tr>\n",
       "    <tr>\n",
       "      <th>4</th>\n",
       "      <td>dagong-youtube-1x-vpn-mac-clean-20201031-1.csv</td>\n",
       "      <td>1</td>\n",
       "      <td>0.099291</td>\n",
       "      <td>1</td>\n",
       "      <td>0</td>\n",
       "      <td>0.150706</td>\n",
       "      <td>0.362297</td>\n",
       "      <td>0.565142</td>\n",
       "    </tr>\n",
       "  </tbody>\n",
       "</table>\n",
       "</div>"
      ],
      "text/plain": [
       "                                               input  output  feature1  \\\n",
       "0       zij034(1)-novideo-novpn-windows-20201101.csv       0  0.271567   \n",
       "1     maqader-netflix-1x-vpn-mac-clean-20201102c.csv       1  0.047581   \n",
       "2  zij034(1)_youtube_1x_xpn_windows_clean_2020110...       1  0.034231   \n",
       "3                    shs214-novpn-browsing-4.csv.csv       0  0.973299   \n",
       "4     dagong-youtube-1x-vpn-mac-clean-20201031-1.csv       1  0.099291   \n",
       "\n",
       "   feature2  feature3  feature4  feature5  feature6  \n",
       "0         0         1  0.043136  0.458771  0.507159  \n",
       "1         1         0  0.008515  0.176486  0.805142  \n",
       "2         0         0  0.021977  0.415074  0.570288  \n",
       "3         0         1  0.088907  0.487308  0.338622  \n",
       "4         1         0  0.150706  0.362297  0.565142  "
      ]
     },
     "execution_count": 436,
     "metadata": {},
     "output_type": "execute_result"
    }
   ],
   "source": [
    "df.head()"
   ]
  },
  {
   "cell_type": "code",
   "execution_count": 437,
   "metadata": {},
   "outputs": [
    {
     "data": {
      "text/plain": [
       "<matplotlib.axes._subplots.AxesSubplot at 0x7f0e9c4a9e50>"
      ]
     },
     "execution_count": 437,
     "metadata": {},
     "output_type": "execute_result"
    },
    {
     "data": {
      "image/png": "[encoded data removed]",
      "text/plain": [
       "<Figure size 432x288 with 1 Axes>"
      ]
     },
     "metadata": {
      "needs_background": "light"
     },
     "output_type": "display_data"
    }
   ],
   "source": [
    "df.corr()['output'].sort_values().plot.bar()\n"
   ]
  },
  {
   "cell_type": "code",
   "execution_count": null,
   "metadata": {},
   "outputs": [],
   "source": []
  },
  {
   "cell_type": "code",
   "execution_count": 438,
   "metadata": {},
   "outputs": [],
   "source": [
    "# def build_model(df):\n",
    "    \n",
    "X = df.drop(columns = [\"output\", 'input'])\n",
    "y = df['output']\n",
    "\n",
    "X_train, X_test, y_train, y_test = train_test_split(X, y, test_size=0.25)\n"
   ]
  },
  {
   "cell_type": "code",
   "execution_count": 439,
   "metadata": {},
   "outputs": [
    {
     "data": {
      "text/plain": [
       "0.8333333333333334"
      ]
     },
     "execution_count": 439,
     "metadata": {},
     "output_type": "execute_result"
    }
   ],
   "source": [
    "reg = LogisticRegression(random_state=0).fit(X_train, y_train)\n",
    "accuracy_score(y_test.values, reg.predict(X_test))"
   ]
  },
  {
   "cell_type": "code",
   "execution_count": 440,
   "metadata": {},
   "outputs": [
    {
     "data": {
      "text/plain": [
       "0.9361702127659575"
      ]
     },
     "execution_count": 440,
     "metadata": {},
     "output_type": "execute_result"
    }
   ],
   "source": [
    "accuracy_score(y_train.values, reg.predict(X_train))"
   ]
  },
  {
   "cell_type": "code",
   "execution_count": 445,
   "metadata": {},
   "outputs": [
    {
     "data": {
      "text/plain": [
       "array([[86,  9],\n",
       "       [ 8, 86]])"
      ]
     },
     "execution_count": 445,
     "metadata": {},
     "output_type": "execute_result"
    }
   ],
   "source": [
    "y_actual = y\n",
    "y_pred = reg.predict(X)\n",
    "confusion_matrix(y_actual, y_pred)"
   ]
  },
  {
   "cell_type": "code",
   "execution_count": 446,
   "metadata": {},
   "outputs": [
    {
     "ename": "ValueError",
     "evalue": "cannot set a row with mismatched columns",
     "output_type": "error",
     "traceback": [
      "\u001b[0;31m\u001b[0m",
      "\u001b[0;31mValueError\u001b[0mTraceback (most recent call last)",
      "\u001b[0;32m<ipython-input-446-cef71d70102d>\u001b[0m in \u001b[0;36m<module>\u001b[0;34m\u001b[0m\n\u001b[1;32m      1\u001b[0m \u001b[0mtest_df\u001b[0m \u001b[0;34m=\u001b[0m \u001b[0mpd\u001b[0m\u001b[0;34m.\u001b[0m\u001b[0mDataFrame\u001b[0m\u001b[0;34m(\u001b[0m\u001b[0mcolumns\u001b[0m \u001b[0;34m=\u001b[0m \u001b[0;34m[\u001b[0m\u001b[0;36m1\u001b[0m\u001b[0;34m,\u001b[0m \u001b[0;36m2\u001b[0m\u001b[0;34m,\u001b[0m \u001b[0;36m3\u001b[0m\u001b[0;34m,\u001b[0m \u001b[0;36m4\u001b[0m\u001b[0;34m]\u001b[0m\u001b[0;34m)\u001b[0m\u001b[0;34m\u001b[0m\u001b[0;34m\u001b[0m\u001b[0m\n\u001b[0;32m----> 2\u001b[0;31m \u001b[0mtest_df\u001b[0m\u001b[0;34m.\u001b[0m\u001b[0mloc\u001b[0m\u001b[0;34m[\u001b[0m\u001b[0;36m0\u001b[0m\u001b[0;34m]\u001b[0m \u001b[0;34m=\u001b[0m \u001b[0mclassifier\u001b[0m\u001b[0;34m(\u001b[0m\u001b[0mdf\u001b[0m\u001b[0;34m[\u001b[0m\u001b[0;34m'input'\u001b[0m\u001b[0;34m]\u001b[0m\u001b[0;34m[\u001b[0m\u001b[0;36m90\u001b[0m\u001b[0;34m]\u001b[0m\u001b[0;34m)\u001b[0m\u001b[0;34m\u001b[0m\u001b[0;34m\u001b[0m\u001b[0m\n\u001b[0m",
      "\u001b[0;32m/opt/conda/lib/python3.7/site-packages/pandas/core/indexing.py\u001b[0m in \u001b[0;36m__setitem__\u001b[0;34m(self, key, value)\u001b[0m\n\u001b[1;32m    668\u001b[0m \u001b[0;34m\u001b[0m\u001b[0m\n\u001b[1;32m    669\u001b[0m         \u001b[0miloc\u001b[0m \u001b[0;34m=\u001b[0m \u001b[0mself\u001b[0m \u001b[0;32mif\u001b[0m \u001b[0mself\u001b[0m\u001b[0;34m.\u001b[0m\u001b[0mname\u001b[0m \u001b[0;34m==\u001b[0m \u001b[0;34m\"iloc\"\u001b[0m \u001b[0;32melse\u001b[0m \u001b[0mself\u001b[0m\u001b[0;34m.\u001b[0m\u001b[0mobj\u001b[0m\u001b[0;34m.\u001b[0m\u001b[0miloc\u001b[0m\u001b[0;34m\u001b[0m\u001b[0;34m\u001b[0m\u001b[0m\n\u001b[0;32m--> 670\u001b[0;31m         \u001b[0miloc\u001b[0m\u001b[0;34m.\u001b[0m\u001b[0m_setitem_with_indexer\u001b[0m\u001b[0;34m(\u001b[0m\u001b[0mindexer\u001b[0m\u001b[0;34m,\u001b[0m \u001b[0mvalue\u001b[0m\u001b[0;34m)\u001b[0m\u001b[0;34m\u001b[0m\u001b[0;34m\u001b[0m\u001b[0m\n\u001b[0m\u001b[1;32m    671\u001b[0m \u001b[0;34m\u001b[0m\u001b[0m\n\u001b[1;32m    672\u001b[0m     \u001b[0;32mdef\u001b[0m \u001b[0m_validate_key\u001b[0m\u001b[0;34m(\u001b[0m\u001b[0mself\u001b[0m\u001b[0;34m,\u001b[0m \u001b[0mkey\u001b[0m\u001b[0;34m,\u001b[0m \u001b[0maxis\u001b[0m\u001b[0;34m:\u001b[0m \u001b[0mint\u001b[0m\u001b[0;34m)\u001b[0m\u001b[0;34m:\u001b[0m\u001b[0;34m\u001b[0m\u001b[0;34m\u001b[0m\u001b[0m\n",
      "\u001b[0;32m/opt/conda/lib/python3.7/site-packages/pandas/core/indexing.py\u001b[0m in \u001b[0;36m_setitem_with_indexer\u001b[0;34m(self, indexer, value)\u001b[0m\n\u001b[1;32m   1624\u001b[0m \u001b[0;34m\u001b[0m\u001b[0m\n\u001b[1;32m   1625\u001b[0m             \u001b[0;32mif\u001b[0m \u001b[0mmissing\u001b[0m\u001b[0;34m:\u001b[0m\u001b[0;34m\u001b[0m\u001b[0;34m\u001b[0m\u001b[0m\n\u001b[0;32m-> 1626\u001b[0;31m                 \u001b[0mself\u001b[0m\u001b[0;34m.\u001b[0m\u001b[0m_setitem_with_indexer_missing\u001b[0m\u001b[0;34m(\u001b[0m\u001b[0mindexer\u001b[0m\u001b[0;34m,\u001b[0m \u001b[0mvalue\u001b[0m\u001b[0;34m)\u001b[0m\u001b[0;34m\u001b[0m\u001b[0;34m\u001b[0m\u001b[0m\n\u001b[0m\u001b[1;32m   1627\u001b[0m                 \u001b[0;32mreturn\u001b[0m\u001b[0;34m\u001b[0m\u001b[0;34m\u001b[0m\u001b[0m\n\u001b[1;32m   1628\u001b[0m \u001b[0;34m\u001b[0m\u001b[0m\n",
      "\u001b[0;32m/opt/conda/lib/python3.7/site-packages/pandas/core/indexing.py\u001b[0m in \u001b[0;36m_setitem_with_indexer_missing\u001b[0;34m(self, indexer, value)\u001b[0m\n\u001b[1;32m   1854\u001b[0m                     \u001b[0;31m# must have conforming columns\u001b[0m\u001b[0;34m\u001b[0m\u001b[0;34m\u001b[0m\u001b[0;34m\u001b[0m\u001b[0m\n\u001b[1;32m   1855\u001b[0m                     \u001b[0;32mif\u001b[0m \u001b[0mlen\u001b[0m\u001b[0;34m(\u001b[0m\u001b[0mvalue\u001b[0m\u001b[0;34m)\u001b[0m \u001b[0;34m!=\u001b[0m \u001b[0mlen\u001b[0m\u001b[0;34m(\u001b[0m\u001b[0mself\u001b[0m\u001b[0;34m.\u001b[0m\u001b[0mobj\u001b[0m\u001b[0;34m.\u001b[0m\u001b[0mcolumns\u001b[0m\u001b[0;34m)\u001b[0m\u001b[0;34m:\u001b[0m\u001b[0;34m\u001b[0m\u001b[0;34m\u001b[0m\u001b[0m\n\u001b[0;32m-> 1856\u001b[0;31m                         \u001b[0;32mraise\u001b[0m \u001b[0mValueError\u001b[0m\u001b[0;34m(\u001b[0m\u001b[0;34m\"cannot set a row with mismatched columns\"\u001b[0m\u001b[0;34m)\u001b[0m\u001b[0;34m\u001b[0m\u001b[0;34m\u001b[0m\u001b[0m\n\u001b[0m\u001b[1;32m   1857\u001b[0m \u001b[0;34m\u001b[0m\u001b[0m\n\u001b[1;32m   1858\u001b[0m                 \u001b[0mvalue\u001b[0m \u001b[0;34m=\u001b[0m \u001b[0mSeries\u001b[0m\u001b[0;34m(\u001b[0m\u001b[0mvalue\u001b[0m\u001b[0;34m,\u001b[0m \u001b[0mindex\u001b[0m\u001b[0;34m=\u001b[0m\u001b[0mself\u001b[0m\u001b[0;34m.\u001b[0m\u001b[0mobj\u001b[0m\u001b[0;34m.\u001b[0m\u001b[0mcolumns\u001b[0m\u001b[0;34m,\u001b[0m \u001b[0mname\u001b[0m\u001b[0;34m=\u001b[0m\u001b[0mindexer\u001b[0m\u001b[0;34m)\u001b[0m\u001b[0;34m\u001b[0m\u001b[0;34m\u001b[0m\u001b[0m\n",
      "\u001b[0;31mValueError\u001b[0m: cannot set a row with mismatched columns"
     ]
    }
   ],
   "source": [
    "test_df = pd.DataFrame(columns = [1, 2, 3, 4])\n",
    "test_df.loc[0] = classifier(df['input'][90])"
   ]
  },
  {
   "cell_type": "code",
   "execution_count": null,
   "metadata": {},
   "outputs": [],
   "source": [
    "test_df.replace({\"Not Streaming\":0, \"Streaming\" : 1})"
   ]
  },
  {
   "cell_type": "code",
   "execution_count": null,
   "metadata": {},
   "outputs": [],
   "source": [
    "reg.predict(test_df.replace({\"Not Streaming\":0, \"Streaming\" : 1}))[0]"
   ]
  },
  {
   "cell_type": "code",
   "execution_count": null,
   "metadata": {},
   "outputs": [],
   "source": [
    "#we can see there are more false negatives than false positives\n",
    "#more cases where we think no streaming, when actually streaming\n",
    "tn = 68\n",
    "fp = 11\n",
    "fn = 20\n",
    "tp = 74"
   ]
  },
  {
   "cell_type": "code",
   "execution_count": null,
   "metadata": {},
   "outputs": [],
   "source": [
    "y_actual = y\n",
    "y_pred = reg.predict(X)\n",
    "confusion_matrix(y_actual, y_pred)"
   ]
  },
  {
   "cell_type": "code",
   "execution_count": null,
   "metadata": {},
   "outputs": [],
   "source": [
    "y_actual = y_test\n",
    "y_pred = reg.predict(X_test)\n",
    "confusion_matrix(y_actual, y_pred)"
   ]
  },
  {
   "cell_type": "markdown",
   "metadata": {},
   "source": [
    "## Model #2: Random Forest Tree "
   ]
  },
  {
   "cell_type": "code",
   "execution_count": 455,
   "metadata": {},
   "outputs": [
    {
     "data": {
      "text/plain": [
       "0.8541666666666666"
      ]
     },
     "execution_count": 455,
     "metadata": {},
     "output_type": "execute_result"
    }
   ],
   "source": [
    "clf = RandomForestClassifier(max_depth=2, random_state=0)\n",
    "clf.fit(X_train, y_train)\n",
    "accuracy_score(y_test.values, clf.predict(X_test))"
   ]
  },
  {
   "cell_type": "code",
   "execution_count": 456,
   "metadata": {},
   "outputs": [
    {
     "data": {
      "text/plain": [
       "0.9432624113475178"
      ]
     },
     "execution_count": 456,
     "metadata": {},
     "output_type": "execute_result"
    }
   ],
   "source": [
    "accuracy_score(y_train.values, clf.predict(X_train))"
   ]
  },
  {
   "cell_type": "code",
   "execution_count": 457,
   "metadata": {},
   "outputs": [
    {
     "data": {
      "text/plain": [
       "array([[86,  9],\n",
       "       [ 6, 88]])"
      ]
     },
     "execution_count": 457,
     "metadata": {},
     "output_type": "execute_result"
    }
   ],
   "source": [
    "y_actual = y\n",
    "y_pred = clf.predict(X)\n",
    "confusion_matrix(y_actual, y_pred)"
   ]
  },
  {
   "cell_type": "code",
   "execution_count": 458,
   "metadata": {},
   "outputs": [
    {
     "data": {
      "text/plain": [
       "array([[21,  4],\n",
       "       [ 3, 20]])"
      ]
     },
     "execution_count": 458,
     "metadata": {},
     "output_type": "execute_result"
    }
   ],
   "source": [
    "y_actual = y_test\n",
    "y_pred = clf.predict(X_test)\n",
    "confusion_matrix(y_actual, y_pred)"
   ]
  },
  {
   "cell_type": "markdown",
   "metadata": {},
   "source": [
    "## Model #3: KNN Claasifier"
   ]
  },
  {
   "cell_type": "code",
   "execution_count": 459,
   "metadata": {},
   "outputs": [
    {
     "data": {
      "text/plain": [
       "0.8333333333333334"
      ]
     },
     "execution_count": 459,
     "metadata": {},
     "output_type": "execute_result"
    }
   ],
   "source": [
    "knn = KNeighborsClassifier()\n",
    "knn.fit(X_train, y_train)\n",
    "accuracy_score(y_test.values, knn.predict(X_test))"
   ]
  },
  {
   "cell_type": "code",
   "execution_count": 460,
   "metadata": {},
   "outputs": [
    {
     "data": {
      "text/plain": [
       "0.950354609929078"
      ]
     },
     "execution_count": 460,
     "metadata": {},
     "output_type": "execute_result"
    }
   ],
   "source": [
    "accuracy_score(y_train.values, knn.predict(X_train))"
   ]
  },
  {
   "cell_type": "code",
   "execution_count": 461,
   "metadata": {},
   "outputs": [
    {
     "data": {
      "text/plain": [
       "array([[89,  6],\n",
       "       [ 9, 85]])"
      ]
     },
     "execution_count": 461,
     "metadata": {},
     "output_type": "execute_result"
    }
   ],
   "source": [
    "y_actual = y\n",
    "y_pred = knn.predict(X)\n",
    "confusion_matrix(y_actual, y_pred)"
   ]
  },
  {
   "cell_type": "code",
   "execution_count": 462,
   "metadata": {},
   "outputs": [
    {
     "data": {
      "text/plain": [
       "array([[21,  4],\n",
       "       [ 4, 19]])"
      ]
     },
     "execution_count": 462,
     "metadata": {},
     "output_type": "execute_result"
    }
   ],
   "source": [
    "y_actual = y_test\n",
    "y_pred = knn.predict(X_test)\n",
    "confusion_matrix(y_actual, y_pred)"
   ]
  },
  {
   "cell_type": "code",
   "execution_count": null,
   "metadata": {},
   "outputs": [],
   "source": []
  }
 ],
 "metadata": {
  "kernelspec": {
   "display_name": "Python 3",
   "language": "python",
   "name": "python3"
  },
  "language_info": {
   "codemirror_mode": {
    "name": "ipython",
    "version": 3
   },
   "file_extension": ".py",
   "mimetype": "text/x-python",
   "name": "python",
   "nbconvert_exporter": "python",
   "pygments_lexer": "ipython3",
   "version": "3.7.6"
  }
 },
 "nbformat": 4,
 "nbformat_minor": 2
}
